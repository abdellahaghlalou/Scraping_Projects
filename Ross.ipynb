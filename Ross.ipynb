{
 "cells": [
  {
   "cell_type": "code",
   "execution_count": 1,
   "metadata": {},
   "outputs": [],
   "source": [
    "from bs4 import BeautifulSoup as bfs \n",
    "from urllib.request import urlopen , Request\n",
    "import pandas as pd\n",
    "import numpy as np\n",
    "import requests as rq\n",
    "from selenium import webdriver\n",
    "import time\n",
    "from selenium.webdriver.common.by import By\n",
    "from selenium.webdriver.common.keys import Keys\n",
    "from selenium.webdriver.support.ui import WebDriverWait\n",
    "from selenium.webdriver.support.expected_conditions import presence_of_element_located"
   ]
  },
  {
   "cell_type": "code",
   "execution_count": 4,
   "metadata": {},
   "outputs": [],
   "source": [
    "option=webdriver.ChromeOptions()\n",
    "option.add_argument(\"headless\")"
   ]
  },
  {
   "cell_type": "code",
   "execution_count": 5,
   "metadata": {},
   "outputs": [],
   "source": [
    "url='https://racing.hkjc.com/racing/information/Chinese/Racing/ResultsAll.aspx?RaceDate=2021/03/21'\n",
    "driver = webdriver.Chrome(options=option)\n",
    "driver.get(url)\n",
    "time.sleep(3)\n",
    "a=driver.page_source"
   ]
  },
  {
   "cell_type": "code",
   "execution_count": 6,
   "metadata": {},
   "outputs": [],
   "source": [
    "page_soup=bfs(a,\"html.parser\")"
   ]
  },
  {
   "cell_type": "code",
   "execution_count": 9,
   "metadata": {},
   "outputs": [],
   "source": [
    "contents=page_soup.findAll(\"option\")"
   ]
  },
  {
   "cell_type": "code",
   "execution_count": 10,
   "metadata": {},
   "outputs": [],
   "source": [
    "dates=[i.text.split(\"/\")[2]+\"/\"+i.text.split(\"/\")[1]+\"/\"+i.text.split(\"/\")[0] for i in contents]"
   ]
  },
  {
   "cell_type": "code",
   "execution_count": 11,
   "metadata": {},
   "outputs": [
    {
     "name": "stdout",
     "output_type": "stream",
     "text": [
      "the numbers of dates is:  179\n"
     ]
    }
   ],
   "source": [
    "print(\"the numbers of dates is: \",len(dates))"
   ]
  },
  {
   "cell_type": "code",
   "execution_count": 30,
   "metadata": {},
   "outputs": [
    {
     "name": "stdout",
     "output_type": "stream",
     "text": [
      "How many dates you want:4\n"
     ]
    }
   ],
   "source": [
    "N=int(input(\"How many dates you want:\"))"
   ]
  },
  {
   "cell_type": "code",
   "execution_count": 31,
   "metadata": {},
   "outputs": [
    {
     "name": "stdout",
     "output_type": "stream",
     "text": [
      "that may take a lot of time\n"
     ]
    }
   ],
   "source": [
    "a=[]\n",
    "Date,race,Pla,HNo,Horse,Jockey,Trainer,ActualWt,Dr=[],[],[],[],[],[],[],[],[]\n",
    "print('that may take a lot of time')\n",
    "for elt in dates[:N]:\n",
    "    Url=\"https://racing.hkjc.com/racing/information/Chinese/Racing/ResultsAll.aspx?RaceDate=\"+elt\n",
    "    driver.get(Url)\n",
    "    time.sleep(3)\n",
    "    a.append(bfs(driver.page_source,\"html.parser\")) "
   ]
  },
  {
   "cell_type": "code",
   "execution_count": 32,
   "metadata": {},
   "outputs": [],
   "source": [
    "Date,race,Pla,HNo,Horse,Jockey,Trainer,ActualWt,Dr=[],[],[],[],[],[],[],[],[]\n",
    "i=0\n",
    "\n",
    "for elt in a:\n",
    "    contents=elt.findAll(\"table\",{\"class\":\"f_fs13 f_tac result\"})\n",
    "    for j in range(len(contents)):\n",
    "        cn=contents[j].findAll(\"tr\")\n",
    "        race+=[ \"Race\"+str(j+1) for r in range(len(cn)-1)]\n",
    "        Date+=[dates[i] for j in range(len(cn)-1)]\n",
    "        for l in range(1,len(cn)):\n",
    "            cr=cn[l].findAll(\"td\")\n",
    "            Pla+=[cr[0].text]\n",
    "            HNo+=[cr[1].text]\n",
    "            Horse+=[cr[2].text]\n",
    "            Jockey+=[cr[3].text]\n",
    "            Trainer+=[cr[4].text]\n",
    "            ActualWt+=[cr[5].text]\n",
    "            Dr+=[cr[6].text] \n",
    "    i+=1"
   ]
  },
  {
   "cell_type": "code",
   "execution_count": 33,
   "metadata": {},
   "outputs": [],
   "source": [
    "df1=pd.DataFrame({\"Date\":Date,\"Race\":race,\"名次\":Pla,'馬號':HNo, '馬名':Horse, \n",
    "                  '騎師':Jockey, '練馬師':Trainer, '實際 負磅':ActualWt,'檔位':Dr})"
   ]
  },
  {
   "cell_type": "code",
   "execution_count": 34,
   "metadata": {},
   "outputs": [
    {
     "data": {
      "text/html": [
       "<div>\n",
       "<style scoped>\n",
       "    .dataframe tbody tr th:only-of-type {\n",
       "        vertical-align: middle;\n",
       "    }\n",
       "\n",
       "    .dataframe tbody tr th {\n",
       "        vertical-align: top;\n",
       "    }\n",
       "\n",
       "    .dataframe thead th {\n",
       "        text-align: right;\n",
       "    }\n",
       "</style>\n",
       "<table border=\"1\" class=\"dataframe\">\n",
       "  <thead>\n",
       "    <tr style=\"text-align: right;\">\n",
       "      <th></th>\n",
       "      <th>Date</th>\n",
       "      <th>Race</th>\n",
       "      <th>名次</th>\n",
       "      <th>馬號</th>\n",
       "      <th>馬名</th>\n",
       "      <th>騎師</th>\n",
       "      <th>練馬師</th>\n",
       "      <th>實際 負磅</th>\n",
       "      <th>檔位</th>\n",
       "    </tr>\n",
       "  </thead>\n",
       "  <tbody>\n",
       "    <tr>\n",
       "      <th>0</th>\n",
       "      <td>2021/03/28</td>\n",
       "      <td>Race1</td>\n",
       "      <td>1</td>\n",
       "      <td>4</td>\n",
       "      <td>生生勝勝</td>\n",
       "      <td>莫雷拉</td>\n",
       "      <td>姚本輝</td>\n",
       "      <td>130</td>\n",
       "      <td>9</td>\n",
       "    </tr>\n",
       "    <tr>\n",
       "      <th>1</th>\n",
       "      <td>2021/03/28</td>\n",
       "      <td>Race1</td>\n",
       "      <td>2</td>\n",
       "      <td>9</td>\n",
       "      <td>合金之星</td>\n",
       "      <td>潘頓</td>\n",
       "      <td>容天鵬</td>\n",
       "      <td>121</td>\n",
       "      <td>1</td>\n",
       "    </tr>\n",
       "    <tr>\n",
       "      <th>2</th>\n",
       "      <td>2021/03/28</td>\n",
       "      <td>Race1</td>\n",
       "      <td>3</td>\n",
       "      <td>8</td>\n",
       "      <td>種福者</td>\n",
       "      <td>郭能</td>\n",
       "      <td>文家良</td>\n",
       "      <td>125</td>\n",
       "      <td>7</td>\n",
       "    </tr>\n",
       "    <tr>\n",
       "      <th>3</th>\n",
       "      <td>2021/03/28</td>\n",
       "      <td>Race1</td>\n",
       "      <td>4</td>\n",
       "      <td>10</td>\n",
       "      <td>坪山新星</td>\n",
       "      <td>史卓豐</td>\n",
       "      <td>蘇保羅</td>\n",
       "      <td>120</td>\n",
       "      <td>2</td>\n",
       "    </tr>\n",
       "    <tr>\n",
       "      <th>4</th>\n",
       "      <td>2021/03/28</td>\n",
       "      <td>Race2</td>\n",
       "      <td>1</td>\n",
       "      <td>7</td>\n",
       "      <td>龍戰士</td>\n",
       "      <td>梁家俊</td>\n",
       "      <td>蘇保羅</td>\n",
       "      <td>119</td>\n",
       "      <td>6</td>\n",
       "    </tr>\n",
       "    <tr>\n",
       "      <th>...</th>\n",
       "      <td>...</td>\n",
       "      <td>...</td>\n",
       "      <td>...</td>\n",
       "      <td>...</td>\n",
       "      <td>...</td>\n",
       "      <td>...</td>\n",
       "      <td>...</td>\n",
       "      <td>...</td>\n",
       "      <td>...</td>\n",
       "    </tr>\n",
       "    <tr>\n",
       "      <th>112</th>\n",
       "      <td>2021/03/21</td>\n",
       "      <td>Race9</td>\n",
       "      <td>4</td>\n",
       "      <td>9</td>\n",
       "      <td>鑽飛龍</td>\n",
       "      <td>潘頓</td>\n",
       "      <td>容天鵬</td>\n",
       "      <td>122</td>\n",
       "      <td>8</td>\n",
       "    </tr>\n",
       "    <tr>\n",
       "      <th>113</th>\n",
       "      <td>2021/03/21</td>\n",
       "      <td>Race10</td>\n",
       "      <td>1</td>\n",
       "      <td>6</td>\n",
       "      <td>精神威</td>\n",
       "      <td>梁家俊</td>\n",
       "      <td>羅富全</td>\n",
       "      <td>126</td>\n",
       "      <td>12</td>\n",
       "    </tr>\n",
       "    <tr>\n",
       "      <th>114</th>\n",
       "      <td>2021/03/21</td>\n",
       "      <td>Race10</td>\n",
       "      <td>2</td>\n",
       "      <td>1</td>\n",
       "      <td>美麗笑容</td>\n",
       "      <td>潘頓</td>\n",
       "      <td>告東尼</td>\n",
       "      <td>131</td>\n",
       "      <td>13</td>\n",
       "    </tr>\n",
       "    <tr>\n",
       "      <th>115</th>\n",
       "      <td>2021/03/21</td>\n",
       "      <td>Race10</td>\n",
       "      <td>3</td>\n",
       "      <td>14</td>\n",
       "      <td>喜駿駒</td>\n",
       "      <td>莫雷拉</td>\n",
       "      <td>蔡約翰</td>\n",
       "      <td>118</td>\n",
       "      <td>3</td>\n",
       "    </tr>\n",
       "    <tr>\n",
       "      <th>116</th>\n",
       "      <td>2021/03/21</td>\n",
       "      <td>Race10</td>\n",
       "      <td>4</td>\n",
       "      <td>2</td>\n",
       "      <td>友誼至好</td>\n",
       "      <td>賀銘年</td>\n",
       "      <td>姚本輝</td>\n",
       "      <td>130</td>\n",
       "      <td>9</td>\n",
       "    </tr>\n",
       "  </tbody>\n",
       "</table>\n",
       "<p>117 rows × 9 columns</p>\n",
       "</div>"
      ],
      "text/plain": [
       "           Date    Race 名次  馬號    馬名   騎師  練馬師 實際 負磅  檔位\n",
       "0    2021/03/28   Race1  1   4  生生勝勝  莫雷拉  姚本輝   130   9\n",
       "1    2021/03/28   Race1  2   9  合金之星   潘頓  容天鵬   121   1\n",
       "2    2021/03/28   Race1  3   8   種福者   郭能  文家良   125   7\n",
       "3    2021/03/28   Race1  4  10  坪山新星  史卓豐  蘇保羅   120   2\n",
       "4    2021/03/28   Race2  1   7   龍戰士  梁家俊  蘇保羅   119   6\n",
       "..          ...     ... ..  ..   ...  ...  ...   ...  ..\n",
       "112  2021/03/21   Race9  4   9   鑽飛龍   潘頓  容天鵬   122   8\n",
       "113  2021/03/21  Race10  1   6   精神威  梁家俊  羅富全   126  12\n",
       "114  2021/03/21  Race10  2   1  美麗笑容   潘頓  告東尼   131  13\n",
       "115  2021/03/21  Race10  3  14   喜駿駒  莫雷拉  蔡約翰   118   3\n",
       "116  2021/03/21  Race10  4   2  友誼至好  賀銘年  姚本輝   130   9\n",
       "\n",
       "[117 rows x 9 columns]"
      ]
     },
     "execution_count": 34,
     "metadata": {},
     "output_type": "execute_result"
    }
   ],
   "source": [
    "df1"
   ]
  },
  {
   "cell_type": "code",
   "execution_count": 35,
   "metadata": {},
   "outputs": [
    {
     "data": {
      "text/plain": [
       "(117, 9)"
      ]
     },
     "execution_count": 35,
     "metadata": {},
     "output_type": "execute_result"
    }
   ],
   "source": [
    "df1.shape"
   ]
  },
  {
   "cell_type": "code",
   "execution_count": 36,
   "metadata": {},
   "outputs": [],
   "source": [
    "df2=df1[df1[\"名次\"]==\"1\"].groupby(\"騎師\").count().iloc[:,[0,1]]\n",
    "df2.columns=[\"騎師\",\"total\"]\n",
    "df3=df1[df1[\"名次\"]==\"2\"].groupby(\"騎師\").count().iloc[:,[0,1]]\n",
    "df3.columns=[\"騎師\",\"total\"]\n",
    "df4=df1[df1[\"名次\"]==\"3\"].groupby(\"騎師\").count().iloc[:,[0,1]]\n",
    "df4.columns=[\"騎師\",\"total\"]"
   ]
  },
  {
   "cell_type": "code",
   "execution_count": 37,
   "metadata": {},
   "outputs": [],
   "source": [
    "DF=df1[(df1[\"名次\"]==\"1\") | (df1[\"名次\"]==\"2\") ]\n",
    "DF2=df1[(df1[\"名次\"]==\"1\") | (df1[\"名次\"]==\"3\") ]\n",
    "DF3=df1[(df1[\"名次\"]==\"2\") | (df1[\"名次\"]==\"3\") ]"
   ]
  },
  {
   "cell_type": "code",
   "execution_count": null,
   "metadata": {},
   "outputs": [],
   "source": []
  },
  {
   "cell_type": "code",
   "execution_count": 38,
   "metadata": {},
   "outputs": [],
   "source": [
    "list=[DF.iloc[i,5]+\" and \"+DF.iloc[i+1,5] for i in range(0,DF.shape[0],2) if DF.iloc[i,5]!=DF.iloc[i+1,5] ]\n",
    "list2=[DF2.iloc[i,5]+\" and \"+DF2.iloc[i+1,5] for i in range(0,DF2.shape[0],2) if DF2.iloc[i,5]!=DF2.iloc[i+1,5] ]\n",
    "list3=[DF3.iloc[i,5]+\" and \"+DF3.iloc[i+1,5] for i in range(0,DF3.shape[0],2) if DF3.iloc[i,5]!=DF3.iloc[i+1,5] ]\n",
    "\n",
    "list4=[DF.iloc[i,6]+\" and \"+DF.iloc[i+1,6] for i in range(0,DF.shape[0],2)  ]\n",
    "list5=[DF2.iloc[i,6]+\" and \"+DF2.iloc[i+1,6] for i in range(0,DF2.shape[0],2) ]\n",
    "list6=[DF3.iloc[i,6]+\" and \"+DF3.iloc[i+1,6] for i in range(0,DF3.shape[0],2) ]"
   ]
  },
  {
   "cell_type": "code",
   "execution_count": 39,
   "metadata": {},
   "outputs": [],
   "source": [
    "first_second=pd.DataFrame({\"first_and_second\":list,\"number\":[1 for i in range(len(list))]})\n",
    "first_third=pd.DataFrame({\"first_and_third\":list2,\"number\":[1 for i in range(len(list2))]})\n",
    "second_third=pd.DataFrame({\"second_and_third\":list3,\"number\":[1 for i in range(len(list3))]})\n",
    "\n",
    "trainer1_2=pd.DataFrame({\"trainer1_2\":list4,\"number\":[1 for i in range(len(list4))]})\n",
    "trainer1_3=pd.DataFrame({\"trainer1_3\":list5,\"number\":[1 for i in range(len(list5))]})\n",
    "trainer2_3=pd.DataFrame({\"trainer2_3\":list6,\"number\":[1 for i in range(len(list6))]})"
   ]
  },
  {
   "cell_type": "code",
   "execution_count": 41,
   "metadata": {},
   "outputs": [],
   "source": [
    "first_second=first_second.groupby(\"first_and_second\").count()\n",
    "first_third=first_third.groupby(\"first_and_third\").count()\n",
    "second_third=second_third.groupby(\"second_and_third\").count()\n",
    "\n",
    "trainer1_2=trainer1_2.groupby(\"trainer1_2\").count()\n",
    "trainer1_3=trainer1_3.groupby(\"trainer1_3\").count()\n",
    "trainer2_3=trainer2_3.groupby(\"trainer2_3\").count()"
   ]
  },
  {
   "cell_type": "code",
   "execution_count": 42,
   "metadata": {},
   "outputs": [],
   "source": [
    "y=pd.ExcelWriter(\"All_data_china.xlsx\", engine='xlsxwriter')\n",
    "df1.to_excel(y, sheet_name='total')\n",
    "df2.loc[:,[\"total\"]].to_excel(y, sheet_name='firstplace_by_jockey')\n",
    "df3.loc[:,[\"total\"]].to_excel(y, sheet_name='second_by_Jockey')\n",
    "df4.loc[:,[\"total\"]].to_excel(y, sheet_name='third_by_Jockey')\n",
    "first_second.to_excel(y,sheet_name=\"combination_1_2\")\n",
    "first_third.to_excel(y,sheet_name=\"combination_1_3\")\n",
    "second_third.to_excel(y,sheet_name=\"combination_2_3\")\n",
    "trainer1_2.to_excel(y,sheet_name=\"trainer1_2\")\n",
    "trainer1_3.to_excel(y,sheet_name=\"trainer1_3\")\n",
    "trainer2_3.to_excel(y,sheet_name=\"trainer2_3\")\n",
    "y.save()"
   ]
  },
  {
   "cell_type": "code",
   "execution_count": null,
   "metadata": {},
   "outputs": [],
   "source": []
  }
 ],
 "metadata": {
  "kernelspec": {
   "display_name": "Python 3",
   "language": "python",
   "name": "python3"
  },
  "language_info": {
   "codemirror_mode": {
    "name": "ipython",
    "version": 3
   },
   "file_extension": ".py",
   "mimetype": "text/x-python",
   "name": "python",
   "nbconvert_exporter": "python",
   "pygments_lexer": "ipython3",
   "version": "3.8.5"
  }
 },
 "nbformat": 4,
 "nbformat_minor": 4
}
